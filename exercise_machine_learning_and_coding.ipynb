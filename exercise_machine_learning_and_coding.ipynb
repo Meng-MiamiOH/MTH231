{
  "nbformat": 4,
  "nbformat_minor": 0,
  "metadata": {
    "colab": {
      "name": "exercise-machine-learning-and-coding.ipynb",
      "provenance": [],
      "collapsed_sections": [],
      "include_colab_link": true
    },
    "kernelspec": {
      "name": "python3",
      "display_name": "Python 3"
    },
    "language_info": {
      "name": "python"
    }
  },
  "cells": [
    {
      "cell_type": "markdown",
      "metadata": {
        "id": "view-in-github",
        "colab_type": "text"
      },
      "source": [
        "<a href=\"https://colab.research.google.com/github/Meng-MiamiOH/MTH231/blob/main/exercise_machine_learning_and_coding.ipynb\" target=\"_parent\"><img src=\"https://colab.research.google.com/assets/colab-badge.svg\" alt=\"Open In Colab\"/></a>"
      ]
    },
    {
      "cell_type": "markdown",
      "metadata": {
        "id": "Q9mGqoJmXeO-"
      },
      "source": [
        "# Exercise for Machine Learning and Coding Session"
      ]
    },
    {
      "cell_type": "markdown",
      "metadata": {
        "id": "XK4T3KcZYqPo"
      },
      "source": [
        "For this exercise, you will be using the Breast Cancer Wisconsin (Diagnostic) Database to create classifiers that can help diagnose patients. First, read through the description of the dataset (below)."
      ]
    },
    {
      "cell_type": "code",
      "metadata": {
        "colab": {
          "base_uri": "https://localhost:8080/"
        },
        "id": "IrrDRIqQYpeu",
        "outputId": "8c850d41-0157-4cf1-e658-d055999cd63d"
      },
      "source": [
        "import numpy as np\n",
        "import pandas as pd\n",
        "from sklearn.datasets import load_breast_cancer\n",
        "\n",
        "cancer = load_breast_cancer()\n",
        "\n",
        "print(cancer.DESCR) # Print the data set description"
      ],
      "execution_count": 1,
      "outputs": [
        {
          "output_type": "stream",
          "text": [
            ".. _breast_cancer_dataset:\n",
            "\n",
            "Breast cancer wisconsin (diagnostic) dataset\n",
            "--------------------------------------------\n",
            "\n",
            "**Data Set Characteristics:**\n",
            "\n",
            "    :Number of Instances: 569\n",
            "\n",
            "    :Number of Attributes: 30 numeric, predictive attributes and the class\n",
            "\n",
            "    :Attribute Information:\n",
            "        - radius (mean of distances from center to points on the perimeter)\n",
            "        - texture (standard deviation of gray-scale values)\n",
            "        - perimeter\n",
            "        - area\n",
            "        - smoothness (local variation in radius lengths)\n",
            "        - compactness (perimeter^2 / area - 1.0)\n",
            "        - concavity (severity of concave portions of the contour)\n",
            "        - concave points (number of concave portions of the contour)\n",
            "        - symmetry \n",
            "        - fractal dimension (\"coastline approximation\" - 1)\n",
            "\n",
            "        The mean, standard error, and \"worst\" or largest (mean of the three\n",
            "        largest values) of these features were computed for each image,\n",
            "        resulting in 30 features.  For instance, field 3 is Mean Radius, field\n",
            "        13 is Radius SE, field 23 is Worst Radius.\n",
            "\n",
            "        - class:\n",
            "                - WDBC-Malignant\n",
            "                - WDBC-Benign\n",
            "\n",
            "    :Summary Statistics:\n",
            "\n",
            "    ===================================== ====== ======\n",
            "                                           Min    Max\n",
            "    ===================================== ====== ======\n",
            "    radius (mean):                        6.981  28.11\n",
            "    texture (mean):                       9.71   39.28\n",
            "    perimeter (mean):                     43.79  188.5\n",
            "    area (mean):                          143.5  2501.0\n",
            "    smoothness (mean):                    0.053  0.163\n",
            "    compactness (mean):                   0.019  0.345\n",
            "    concavity (mean):                     0.0    0.427\n",
            "    concave points (mean):                0.0    0.201\n",
            "    symmetry (mean):                      0.106  0.304\n",
            "    fractal dimension (mean):             0.05   0.097\n",
            "    radius (standard error):              0.112  2.873\n",
            "    texture (standard error):             0.36   4.885\n",
            "    perimeter (standard error):           0.757  21.98\n",
            "    area (standard error):                6.802  542.2\n",
            "    smoothness (standard error):          0.002  0.031\n",
            "    compactness (standard error):         0.002  0.135\n",
            "    concavity (standard error):           0.0    0.396\n",
            "    concave points (standard error):      0.0    0.053\n",
            "    symmetry (standard error):            0.008  0.079\n",
            "    fractal dimension (standard error):   0.001  0.03\n",
            "    radius (worst):                       7.93   36.04\n",
            "    texture (worst):                      12.02  49.54\n",
            "    perimeter (worst):                    50.41  251.2\n",
            "    area (worst):                         185.2  4254.0\n",
            "    smoothness (worst):                   0.071  0.223\n",
            "    compactness (worst):                  0.027  1.058\n",
            "    concavity (worst):                    0.0    1.252\n",
            "    concave points (worst):               0.0    0.291\n",
            "    symmetry (worst):                     0.156  0.664\n",
            "    fractal dimension (worst):            0.055  0.208\n",
            "    ===================================== ====== ======\n",
            "\n",
            "    :Missing Attribute Values: None\n",
            "\n",
            "    :Class Distribution: 212 - Malignant, 357 - Benign\n",
            "\n",
            "    :Creator:  Dr. William H. Wolberg, W. Nick Street, Olvi L. Mangasarian\n",
            "\n",
            "    :Donor: Nick Street\n",
            "\n",
            "    :Date: November, 1995\n",
            "\n",
            "This is a copy of UCI ML Breast Cancer Wisconsin (Diagnostic) datasets.\n",
            "https://goo.gl/U2Uwz2\n",
            "\n",
            "Features are computed from a digitized image of a fine needle\n",
            "aspirate (FNA) of a breast mass.  They describe\n",
            "characteristics of the cell nuclei present in the image.\n",
            "\n",
            "Separating plane described above was obtained using\n",
            "Multisurface Method-Tree (MSM-T) [K. P. Bennett, \"Decision Tree\n",
            "Construction Via Linear Programming.\" Proceedings of the 4th\n",
            "Midwest Artificial Intelligence and Cognitive Science Society,\n",
            "pp. 97-101, 1992], a classification method which uses linear\n",
            "programming to construct a decision tree.  Relevant features\n",
            "were selected using an exhaustive search in the space of 1-4\n",
            "features and 1-3 separating planes.\n",
            "\n",
            "The actual linear program used to obtain the separating plane\n",
            "in the 3-dimensional space is that described in:\n",
            "[K. P. Bennett and O. L. Mangasarian: \"Robust Linear\n",
            "Programming Discrimination of Two Linearly Inseparable Sets\",\n",
            "Optimization Methods and Software 1, 1992, 23-34].\n",
            "\n",
            "This database is also available through the UW CS ftp server:\n",
            "\n",
            "ftp ftp.cs.wisc.edu\n",
            "cd math-prog/cpo-dataset/machine-learn/WDBC/\n",
            "\n",
            ".. topic:: References\n",
            "\n",
            "   - W.N. Street, W.H. Wolberg and O.L. Mangasarian. Nuclear feature extraction \n",
            "     for breast tumor diagnosis. IS&T/SPIE 1993 International Symposium on \n",
            "     Electronic Imaging: Science and Technology, volume 1905, pages 861-870,\n",
            "     San Jose, CA, 1993.\n",
            "   - O.L. Mangasarian, W.N. Street and W.H. Wolberg. Breast cancer diagnosis and \n",
            "     prognosis via linear programming. Operations Research, 43(4), pages 570-577, \n",
            "     July-August 1995.\n",
            "   - W.H. Wolberg, W.N. Street, and O.L. Mangasarian. Machine learning techniques\n",
            "     to diagnose breast cancer from fine-needle aspirates. Cancer Letters 77 (1994) \n",
            "     163-171.\n"
          ],
          "name": "stdout"
        }
      ]
    },
    {
      "cell_type": "markdown",
      "metadata": {
        "id": "HYjKWReZjNMI"
      },
      "source": [
        "The object returned by load_breast_cancer() is a scikit-learn Bunch object, which is similar to a dictionary."
      ]
    },
    {
      "cell_type": "code",
      "metadata": {
        "id": "XlwXVcWbjMAS",
        "colab": {
          "base_uri": "https://localhost:8080/"
        },
        "outputId": "d05aaf60-199f-485d-f163-e7ea36d5e325"
      },
      "source": [
        "cancer.keys()"
      ],
      "execution_count": 2,
      "outputs": [
        {
          "output_type": "execute_result",
          "data": {
            "text/plain": [
              "dict_keys(['data', 'target', 'target_names', 'DESCR', 'feature_names', 'filename'])"
            ]
          },
          "metadata": {
            "tags": []
          },
          "execution_count": 2
        }
      ]
    },
    {
      "cell_type": "markdown",
      "metadata": {
        "id": "lhwPuGqXjoU1"
      },
      "source": [
        "### 1. Convert the sklearn.dataset `cancer['data']` to a `(569, 30)` DataFrame `X` and convert the `cancer['target']` to a `(569, 1)` Series `y`."
      ]
    },
    {
      "cell_type": "code",
      "metadata": {
        "id": "UJGc0vqzkG1M",
        "colab": {
          "base_uri": "https://localhost:8080/"
        },
        "outputId": "8eb0ebde-6c6c-4e9a-a4ce-99aba4f6892e"
      },
      "source": [
        "X =  pd.DataFrame(data=cancer['data'], columns=cancer['feature_names'])\n",
        "y = pd.Series(cancer['target'])\n",
        "print(X)\n",
        "print(y)"
      ],
      "execution_count": 3,
      "outputs": [
        {
          "output_type": "stream",
          "text": [
            "     mean radius  mean texture  ...  worst symmetry  worst fractal dimension\n",
            "0          17.99         10.38  ...          0.4601                  0.11890\n",
            "1          20.57         17.77  ...          0.2750                  0.08902\n",
            "2          19.69         21.25  ...          0.3613                  0.08758\n",
            "3          11.42         20.38  ...          0.6638                  0.17300\n",
            "4          20.29         14.34  ...          0.2364                  0.07678\n",
            "..           ...           ...  ...             ...                      ...\n",
            "564        21.56         22.39  ...          0.2060                  0.07115\n",
            "565        20.13         28.25  ...          0.2572                  0.06637\n",
            "566        16.60         28.08  ...          0.2218                  0.07820\n",
            "567        20.60         29.33  ...          0.4087                  0.12400\n",
            "568         7.76         24.54  ...          0.2871                  0.07039\n",
            "\n",
            "[569 rows x 30 columns]\n",
            "0      0\n",
            "1      0\n",
            "2      0\n",
            "3      0\n",
            "4      0\n",
            "      ..\n",
            "564    0\n",
            "565    0\n",
            "566    0\n",
            "567    0\n",
            "568    1\n",
            "Length: 569, dtype: int64\n"
          ],
          "name": "stdout"
        }
      ]
    },
    {
      "cell_type": "markdown",
      "metadata": {
        "id": "QzX5ZaxekHN-"
      },
      "source": [
        "### 2. What is the class distribution? (i.e. how many instances of `malignant` (encoded 0) and how many `benign` (encoded 1)?)\n"
      ]
    },
    {
      "cell_type": "code",
      "metadata": {
        "id": "-0LsWRMCkqL3",
        "colab": {
          "base_uri": "https://localhost:8080/"
        },
        "outputId": "d3a98229-304b-4b11-ac3b-7733fb2b687e"
      },
      "source": [
        "len(y[y == 0])"
      ],
      "execution_count": 4,
      "outputs": [
        {
          "output_type": "execute_result",
          "data": {
            "text/plain": [
              "212"
            ]
          },
          "metadata": {
            "tags": []
          },
          "execution_count": 4
        }
      ]
    },
    {
      "cell_type": "code",
      "metadata": {
        "id": "_aa8YDuGMP0U",
        "colab": {
          "base_uri": "https://localhost:8080/"
        },
        "outputId": "2889df1d-131a-4ca5-e7b9-7ac82538eee8"
      },
      "source": [
        "len(y[y == 1])"
      ],
      "execution_count": 5,
      "outputs": [
        {
          "output_type": "execute_result",
          "data": {
            "text/plain": [
              "357"
            ]
          },
          "metadata": {
            "tags": []
          },
          "execution_count": 5
        }
      ]
    },
    {
      "cell_type": "markdown",
      "metadata": {
        "id": "4i1u768Rk24N"
      },
      "source": [
        "### 4. Using `train_test_split`, split `X` and `y` into training and test sets `X_train`, `X_test`, `y_train`, and `y_test`.\n",
        "\n",
        "* `X_train` *has shape* `(426, 30)`\n",
        "* `X_test` *has shape* `(143, 30)`\n",
        "* `y_train` *has shape* `(426,)`\n",
        "* `y_test` *has shape* `(143,)`"
      ]
    },
    {
      "cell_type": "code",
      "metadata": {
        "id": "YtAAU2prlm0z"
      },
      "source": [
        "# your code\n",
        "from sklearn.model_selection import train_test_split\n",
        "\n",
        "X_train, X_test, y_train, y_test = train_test_split(X, y)"
      ],
      "execution_count": 6,
      "outputs": []
    },
    {
      "cell_type": "markdown",
      "metadata": {
        "id": "2Pn5kQZalqX3"
      },
      "source": [
        "### 5. Using KNeighborsClassifier, fit a k-nearest neighbors (knn) classifier with `X_train`, `y_train` and using one nearest neighbor (`n_neighbors = 1`)."
      ]
    },
    {
      "cell_type": "code",
      "metadata": {
        "id": "3TvmECMjl1qB",
        "colab": {
          "base_uri": "https://localhost:8080/"
        },
        "outputId": "27a0c029-0ba4-4abb-b773-d5873f1a52d6"
      },
      "source": [
        "# your code\n",
        "from sklearn.neighbors import KNeighborsClassifier\n",
        "knn = KNeighborsClassifier(n_neighbors=1)\n",
        "knn.fit(X_train,y_train)"
      ],
      "execution_count": 7,
      "outputs": [
        {
          "output_type": "execute_result",
          "data": {
            "text/plain": [
              "KNeighborsClassifier(algorithm='auto', leaf_size=30, metric='minkowski',\n",
              "                     metric_params=None, n_jobs=None, n_neighbors=1, p=2,\n",
              "                     weights='uniform')"
            ]
          },
          "metadata": {
            "tags": []
          },
          "execution_count": 7
        }
      ]
    },
    {
      "cell_type": "markdown",
      "metadata": {
        "id": "EMqdSoGomc7r"
      },
      "source": [
        "### 6. Using your knn classifier, predict the class label using the mean value for each feature.\n"
      ]
    },
    {
      "cell_type": "code",
      "metadata": {
        "id": "proiNBw3m0qp",
        "colab": {
          "base_uri": "https://localhost:8080/"
        },
        "outputId": "82212211-7dbf-40b1-bed7-40b0b4f31ecd"
      },
      "source": [
        "mean = X_train.mean().values.reshape(1, -1)\n",
        "mean"
      ],
      "execution_count": 8,
      "outputs": [
        {
          "output_type": "execute_result",
          "data": {
            "text/plain": [
              "array([[1.41017371e+01, 1.92302582e+01, 9.17882864e+01, 6.51732160e+02,\n",
              "        9.63570657e-02, 1.04227606e-01, 8.98661261e-02, 4.90516174e-02,\n",
              "        1.80954930e-01, 6.28922770e-02, 3.99731690e-01, 1.22207676e+00,\n",
              "        2.82412676e+00, 3.94833991e+01, 7.03827230e-03, 2.60056502e-02,\n",
              "        3.33039967e-02, 1.19317066e-02, 2.04458427e-02, 3.86995540e-03,\n",
              "        1.62159484e+01, 2.56751174e+01, 1.06917136e+02, 8.73415728e+02,\n",
              "        1.32423732e-01, 2.55204859e-01, 2.78357545e-01, 1.15696033e-01,\n",
              "        2.90094836e-01, 8.42250235e-02]])"
            ]
          },
          "metadata": {
            "tags": []
          },
          "execution_count": 8
        }
      ]
    },
    {
      "cell_type": "code",
      "metadata": {
        "id": "cAek3WQSZFc9",
        "colab": {
          "base_uri": "https://localhost:8080/"
        },
        "outputId": "9c27c008-69a8-429b-d8b1-f94e2589728a"
      },
      "source": [
        "# your code\n",
        "knn.predict(mean)"
      ],
      "execution_count": 9,
      "outputs": [
        {
          "output_type": "execute_result",
          "data": {
            "text/plain": [
              "array([1])"
            ]
          },
          "metadata": {
            "tags": []
          },
          "execution_count": 9
        }
      ]
    },
    {
      "cell_type": "markdown",
      "metadata": {
        "id": "YQ9FuTtpnEno"
      },
      "source": [
        "### 7. Use the knn classifer your created for Question 5 to predict the class labels for the test set `X_text`.\n",
        "\n",
        "*The result should be a numpy array with shape `(143,)` and values either `0.0` or `1.0`.*"
      ]
    },
    {
      "cell_type": "code",
      "metadata": {
        "id": "4n1Yw5UUnut_",
        "colab": {
          "base_uri": "https://localhost:8080/"
        },
        "outputId": "a780639b-0291-4cc5-9f76-2fe7b0d591e8"
      },
      "source": [
        "# your code\n",
        "knn.predict(X_test)"
      ],
      "execution_count": 10,
      "outputs": [
        {
          "output_type": "execute_result",
          "data": {
            "text/plain": [
              "array([1, 1, 0, 0, 1, 0, 0, 0, 1, 1, 0, 1, 1, 0, 1, 1, 0, 0, 1, 1, 1, 1,\n",
              "       1, 1, 0, 0, 0, 0, 1, 0, 1, 1, 1, 0, 1, 0, 1, 0, 0, 0, 1, 1, 0, 0,\n",
              "       0, 1, 1, 0, 0, 0, 0, 1, 1, 1, 1, 1, 0, 0, 0, 1, 1, 1, 1, 0, 1, 0,\n",
              "       0, 1, 0, 1, 0, 1, 1, 1, 1, 0, 1, 0, 1, 1, 0, 1, 1, 1, 1, 1, 1, 1,\n",
              "       0, 1, 1, 1, 1, 1, 1, 1, 1, 1, 1, 1, 0, 1, 1, 1, 0, 0, 0, 1, 1, 1,\n",
              "       1, 0, 0, 1, 1, 1, 1, 1, 1, 1, 1, 0, 1, 1, 0, 1, 1, 0, 1, 1, 1, 1,\n",
              "       0, 1, 1, 0, 1, 1, 1, 1, 0, 0, 0])"
            ]
          },
          "metadata": {
            "tags": []
          },
          "execution_count": 10
        }
      ]
    },
    {
      "cell_type": "code",
      "metadata": {
        "colab": {
          "base_uri": "https://localhost:8080/"
        },
        "id": "dxJaD_DPEfLN",
        "outputId": "8f0731e8-58b0-4cef-98a1-9c9614327de9"
      },
      "source": [
        "print(y_test)"
      ],
      "execution_count": 11,
      "outputs": [
        {
          "output_type": "stream",
          "text": [
            "479    0\n",
            "135    0\n",
            "32     0\n",
            "198    0\n",
            "140    1\n",
            "      ..\n",
            "80     1\n",
            "493    1\n",
            "330    0\n",
            "12     0\n",
            "441    0\n",
            "Length: 143, dtype: int64\n"
          ],
          "name": "stdout"
        }
      ]
    },
    {
      "cell_type": "markdown",
      "metadata": {
        "id": "gm8E9kdbnvEe"
      },
      "source": [
        "### 8. Find the score (mean accuracy) of your knn classifier using `X_test` and `y_test`.\n",
        "\n",
        "*The calculated score should be a float between 0 and 1*"
      ]
    },
    {
      "cell_type": "code",
      "metadata": {
        "id": "5eGTxRmRJDCx",
        "colab": {
          "base_uri": "https://localhost:8080/"
        },
        "outputId": "24428180-0ec5-45ad-bf0b-b0849b509922"
      },
      "source": [
        "# your code\n",
        "knn.score(X_test,y_test)"
      ],
      "execution_count": 12,
      "outputs": [
        {
          "output_type": "execute_result",
          "data": {
            "text/plain": [
              "0.9230769230769231"
            ]
          },
          "metadata": {
            "tags": []
          },
          "execution_count": 12
        }
      ]
    },
    {
      "cell_type": "markdown",
      "metadata": {
        "id": "uYrbk51NHmvN"
      },
      "source": [
        "### 9. Try to train kNN classifier with different k (1, 3, 5, 10) and compare the performance."
      ]
    },
    {
      "cell_type": "code",
      "metadata": {
        "id": "Rq7C7novn7dS",
        "colab": {
          "base_uri": "https://localhost:8080/"
        },
        "outputId": "2a4775d8-bacc-48fa-8790-53df6d5311f2"
      },
      "source": [
        "# your code\n",
        "knn = KNeighborsClassifier(n_neighbors=1)\n",
        "knn.fit(X_train,y_train)\n",
        "print(knn.score(X_test,y_test))\n",
        "knn = KNeighborsClassifier(n_neighbors=3)\n",
        "knn.fit(X_train,y_train)\n",
        "print(knn.score(X_test,y_test))\n",
        "knn = KNeighborsClassifier(n_neighbors=5)\n",
        "knn.fit(X_train,y_train)\n",
        "print(knn.score(X_test,y_test))\n",
        "knn = KNeighborsClassifier(n_neighbors=10)\n",
        "knn.fit(X_train,y_train)\n",
        "print(knn.score(X_test,y_test))"
      ],
      "execution_count": 13,
      "outputs": [
        {
          "output_type": "stream",
          "text": [
            "0.9230769230769231\n",
            "0.9230769230769231\n",
            "0.9230769230769231\n",
            "0.9370629370629371\n"
          ],
          "name": "stdout"
        }
      ]
    },
    {
      "cell_type": "markdown",
      "metadata": {
        "id": "RDbUx73Blkg5"
      },
      "source": [
        "### 10. Use logistic regression model to create a classifier for the data."
      ]
    },
    {
      "cell_type": "code",
      "metadata": {
        "id": "ga_1J849mKL7",
        "colab": {
          "base_uri": "https://localhost:8080/"
        },
        "outputId": "c50c3b9f-5df4-4522-ee14-13a3e0505cac"
      },
      "source": [
        "# your code\n",
        "from sklearn.linear_model import LogisticRegression\n",
        "\n",
        "lc = LogisticRegression().fit(X_train, y_train)\n"
      ],
      "execution_count": 15,
      "outputs": [
        {
          "output_type": "stream",
          "text": [
            "/usr/local/lib/python3.7/dist-packages/sklearn/linear_model/_logistic.py:940: ConvergenceWarning: lbfgs failed to converge (status=1):\n",
            "STOP: TOTAL NO. of ITERATIONS REACHED LIMIT.\n",
            "\n",
            "Increase the number of iterations (max_iter) or scale the data as shown in:\n",
            "    https://scikit-learn.org/stable/modules/preprocessing.html\n",
            "Please also refer to the documentation for alternative solver options:\n",
            "    https://scikit-learn.org/stable/modules/linear_model.html#logistic-regression\n",
            "  extra_warning_msg=_LOGISTIC_SOLVER_CONVERGENCE_MSG)\n"
          ],
          "name": "stderr"
        }
      ]
    },
    {
      "cell_type": "markdown",
      "metadata": {
        "id": "9eFZ94VomKsk"
      },
      "source": [
        "### 11. Evaluate the logistic classifier and compare it with kNN classifier."
      ]
    },
    {
      "cell_type": "code",
      "metadata": {
        "id": "n3b6mG2POnAn",
        "colab": {
          "base_uri": "https://localhost:8080/"
        },
        "outputId": "1061c002-fc2e-4387-c2d7-9a6e38d38e45"
      },
      "source": [
        "# your code\n",
        "lc.score(X_test,y_test)"
      ],
      "execution_count": 16,
      "outputs": [
        {
          "output_type": "execute_result",
          "data": {
            "text/plain": [
              "0.9300699300699301"
            ]
          },
          "metadata": {
            "tags": []
          },
          "execution_count": 16
        }
      ]
    },
    {
      "cell_type": "markdown",
      "metadata": {
        "id": "0_f3aLOYgQZk"
      },
      "source": [
        "### 12. Use cross-validation to calculate accuracy"
      ]
    },
    {
      "cell_type": "code",
      "metadata": {
        "id": "woa7HTaxg10V"
      },
      "source": [
        "import numpy as ny\n",
        "# your code\n"
      ],
      "execution_count": null,
      "outputs": []
    },
    {
      "cell_type": "markdown",
      "metadata": {
        "id": "jGpwShXImoQ6"
      },
      "source": [
        "### 13. Use cross-validation to calculate f1"
      ]
    },
    {
      "cell_type": "code",
      "metadata": {
        "id": "ijkyxryjmvMA"
      },
      "source": [
        "# your code"
      ],
      "execution_count": null,
      "outputs": []
    }
  ]
}